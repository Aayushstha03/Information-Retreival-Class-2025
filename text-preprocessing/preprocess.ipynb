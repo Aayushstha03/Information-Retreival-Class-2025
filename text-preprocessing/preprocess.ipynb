{
 "cells": [
  {
   "cell_type": "code",
   "execution_count": null,
   "id": "2004e21b",
   "metadata": {},
   "outputs": [],
   "source": [
    "# imports:)\n",
    "import pandas as pd\n",
    "import re\n",
    "import nltk\n",
    "from nltk.corpus import stopwords\n",
    "from nltk.tokenize import word_tokenize\n",
    "from nltk.stem import PorterStemmer, WordNetLemmatizer\n",
    "from nltk.corpus import wordnet # For more accurate lemmatization"
   ]
  },
  {
   "cell_type": "code",
   "execution_count": null,
   "id": "042fb470",
   "metadata": {},
   "outputs": [
    {
     "name": "stderr",
     "output_type": "stream",
     "text": [
      "[nltk_data] Downloading package stopwords to\n",
      "[nltk_data]     C:\\Users\\aayus\\AppData\\Roaming\\nltk_data...\n",
      "[nltk_data]   Package stopwords is already up-to-date!\n",
      "[nltk_data] Downloading package punkt to\n",
      "[nltk_data]     C:\\Users\\aayus\\AppData\\Roaming\\nltk_data...\n",
      "[nltk_data]   Package punkt is already up-to-date!\n",
      "[nltk_data] Downloading package wordnet to\n",
      "[nltk_data]     C:\\Users\\aayus\\AppData\\Roaming\\nltk_data...\n",
      "[nltk_data]   Package wordnet is already up-to-date!\n",
      "[nltk_data] Downloading package averaged_perceptron_tagger to\n",
      "[nltk_data]     C:\\Users\\aayus\\AppData\\Roaming\\nltk_data...\n",
      "[nltk_data]   Package averaged_perceptron_tagger is already up-to-\n",
      "[nltk_data]       date!\n"
     ]
    },
    {
     "data": {
      "text/plain": [
       "True"
      ]
     },
     "execution_count": 5,
     "metadata": {},
     "output_type": "execute_result"
    }
   ],
   "source": [
    "# Downloading necessary NLTK resources\n",
    "nltk.download('stopwords')\n",
    "nltk.download('punkt')\n",
    "nltk.download('wordnet')\n",
    "nltk.download('averaged_perceptron_tagger')"
   ]
  },
  {
   "cell_type": "code",
   "execution_count": 15,
   "id": "8f6677d9",
   "metadata": {},
   "outputs": [
    {
     "name": "stdout",
     "output_type": "stream",
     "text": [
      "                                                joke\n",
      "0  [me narrating a documentary about narrators] I...\n",
      "1  Telling my daughter garlic is good for you. Go...\n",
      "2  I've been going through a really rough period ...\n",
      "3  If I could have dinner with anyone, dead or al...\n",
      "4     Two guys walk into a bar. The third guy ducks.\n"
     ]
    }
   ],
   "source": [
    "# loading the dataset!\n",
    "df = pd.read_csv('jokes-partial.csv')\n",
    "# Display the first few rows of the DataFrame\n",
    "print(df.head())\n"
   ]
  },
  {
   "cell_type": "code",
   "execution_count": 22,
   "id": "ed010c40",
   "metadata": {},
   "outputs": [],
   "source": [
    "# function for initial cleaning of text\n",
    "def clean_text_initial(text):\n",
    "    # 1. Lowercasing\n",
    "    text = text.lower()\n",
    "\n",
    "    # 2. Remove Punctuation (keep only alphanumeric characters and whitespace)\n",
    "    # [^...] matches any character NOT in the set. \\w matches word characters (alphanumeric + underscore). \\s matches whitespace.\n",
    "    text = re.sub(r'[^\\w\\s]', '', text)\n",
    "\n",
    "    # 3. Remove Numbers (digits)\n",
    "    # \\d+ matches one or more digits.\n",
    "    text = re.sub(r'\\d+', '', text)\n",
    "\n",
    "    # 4. Normalize Whitespace (replace multiple spaces with a single space and strip leading/trailing)\n",
    "    # \\s+ matches one or more whitespace characters.\n",
    "    text = re.sub(r'\\s+', ' ', text).strip()\n",
    "    return text"
   ]
  },
  {
   "cell_type": "code",
   "execution_count": 27,
   "id": "b25bd9d7",
   "metadata": {},
   "outputs": [],
   "source": [
    "# apply the function to the 'joke' column\n",
    "df['cleaned_joke_initial'] = df['joke'].apply(clean_text_initial)"
   ]
  },
  {
   "cell_type": "code",
   "execution_count": null,
   "id": "253938b4",
   "metadata": {},
   "outputs": [
    {
     "name": "stdout",
     "output_type": "stream",
     "text": [
      "Original:   I've been going through a really rough period at work this week It's my own fault for swapping my tampax for sand paper\n",
      "Cleaned:    ive been going through a really rough period at work this week its my own fault for swapping my tampax for sand paper\n"
     ]
    }
   ],
   "source": [
    "joke_index = 0 # Change this index to see other jokes\n",
    "print(f\"Original:   {df['joke'].iloc[joke_index]}\")\n",
    "print(f\"Cleaned:    {df['cleaned_joke_initial'].iloc[joke_index]}\")"
   ]
  }
 ],
 "metadata": {
  "kernelspec": {
   "display_name": "environment",
   "language": "python",
   "name": "python3"
  },
  "language_info": {
   "codemirror_mode": {
    "name": "ipython",
    "version": 3
   },
   "file_extension": ".py",
   "mimetype": "text/x-python",
   "name": "python",
   "nbconvert_exporter": "python",
   "pygments_lexer": "ipython3",
   "version": "3.12.5"
  }
 },
 "nbformat": 4,
 "nbformat_minor": 5
}
